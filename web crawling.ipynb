{
 "cells": [
  {
   "cell_type": "code",
   "execution_count": null,
   "metadata": {
    "collapsed": true
   },
   "outputs": [],
   "source": [
    "from lxml import html\n",
    "import requests\n",
    "from bs4 import BeautifulSoup\n",
    "\n",
    "import pandas as pd\n",
    "import time"
   ]
  },
  {
   "cell_type": "code",
   "execution_count": null,
   "metadata": {
    "collapsed": false
   },
   "outputs": [],
   "source": [
    "def get_page(page_number):\n",
    "    list_url = []\n",
    "    try:\n",
    "        page = requests.get('https://www.allabolag.se/where/stockholm/xb/AB/xl?page=' + str(page_number))\n",
    "        soup = BeautifulSoup(page.content, 'html.parser')\n",
    "        res = soup.find_all('h2', class_=\"search-results__item__title\") \n",
    "        list_url = [x.find('a').get('href') for x in res]\n",
    "\n",
    "    except:\n",
    "        pass\n",
    "    return list_url"
   ]
  },
  {
   "cell_type": "code",
   "execution_count": null,
   "metadata": {
    "collapsed": false
   },
   "outputs": [],
   "source": [
    "def get_company_info(url):\n",
    "    \n",
    "    c_dict = {}\n",
    "    df = pd.DataFrame()\n",
    "    \n",
    "    try:\n",
    "        page = requests.get(url)\n",
    "        soup = BeautifulSoup(page.content, 'html.parser')\n",
    "        company_table = soup.find('table', class_=\"company-table\") \n",
    "        company_name = url.split('/')[-1].replace('-', ' ') \n",
    "\n",
    "        if company_table:\n",
    "            data_rows = company_table.find_all('tr')\n",
    "            years = company_table.find_all('th', class_='data-pager__page')\n",
    "\n",
    "            for row in data_rows:\n",
    "\n",
    "                if row.th and row.th.text:\n",
    "                    name = row.th.text.strip()\n",
    "                    if name == 'Bokslut & nyckeltal':\n",
    "                        continue\n",
    "                    values = row.find_all('td')\n",
    "\n",
    "                    data=[]\n",
    "                    company_names=[]\n",
    "                    for value in values:    \n",
    "                        clean_value = value.text.strip().replace('%', '').replace(',','.')\n",
    "                        if clean_value:\n",
    "                            try:\n",
    "                                data.append(float(clean_value))\n",
    "                                company_names.append(company_name)\n",
    "                            except ValueError:\n",
    "                                data.append(0)\n",
    "\n",
    "                    c_dict[name] = data\n",
    "                    c_dict['company_name'] = company_names\n",
    "\n",
    "            years_list = []        \n",
    "            for row in years:\n",
    "                if row.text:\n",
    "                    year = row.text.strip().split('-')[0]\n",
    "                    years_list.append(year)\n",
    "            c_dict['year'] = years_list\n",
    "\n",
    "\n",
    "            df = pd.DataFrame(data = c_dict).set_index('company_name')\n",
    "    except:\n",
    "        pass\n",
    "\n",
    "    return df         "
   ]
  },
  {
   "cell_type": "code",
   "execution_count": null,
   "metadata": {
    "collapsed": false,
    "scrolled": true
   },
   "outputs": [],
   "source": [
    "def scrape_pages(n):\n",
    "    data = pd.DataFrame()\n",
    "    \n",
    "    for i in range(1,n+1):\n",
    "        urls = get_page(i)\n",
    "        \n",
    "        for url in (urls):\n",
    "            try: \n",
    "                data = data.append(get_company_info(url))\n",
    "                time.sleep(2)\n",
    "            except ValueError:\n",
    "                print 'no info'\n",
    "        time.sleep(2)\n",
    "        \n",
    "    return data"
   ]
  },
  {
   "cell_type": "code",
   "execution_count": null,
   "metadata": {
    "collapsed": true
   },
   "outputs": [],
   "source": [
    "all_pages = scrape_pages(400)\n",
    "all_pages.to_csv('./all_companies_info.csv', encoding='utf-8')"
   ]
  },
  {
   "cell_type": "code",
   "execution_count": null,
   "metadata": {
    "collapsed": true
   },
   "outputs": [],
   "source": []
  }
 ],
 "metadata": {
  "anaconda-cloud": {},
  "kernelspec": {
   "display_name": "Python [Root]",
   "language": "python",
   "name": "Python [Root]"
  },
  "language_info": {
   "codemirror_mode": {
    "name": "ipython",
    "version": 2
   },
   "file_extension": ".py",
   "mimetype": "text/x-python",
   "name": "python",
   "nbconvert_exporter": "python",
   "pygments_lexer": "ipython2",
   "version": "2.7.12"
  }
 },
 "nbformat": 4,
 "nbformat_minor": 0
}
